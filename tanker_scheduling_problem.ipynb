{
  "nbformat": 4,
  "nbformat_minor": 0,
  "metadata": {
    "colab": {
      "provenance": [],
      "authorship_tag": "ABX9TyNse8iXZ7IjGM5CM9eKcRq8",
      "include_colab_link": true
    },
    "kernelspec": {
      "name": "python3",
      "display_name": "Python 3"
    },
    "language_info": {
      "name": "python"
    }
  },
  "cells": [
    {
      "cell_type": "markdown",
      "metadata": {
        "id": "view-in-github",
        "colab_type": "text"
      },
      "source": [
        "<a href=\"https://colab.research.google.com/github/loriboi/nfo_tanker_scheduling_problem/blob/main/tanker_scheduling_problem.ipynb\" target=\"_parent\"><img src=\"https://colab.research.google.com/assets/colab-badge.svg\" alt=\"Open In Colab\"/></a>"
      ]
    },
    {
      "cell_type": "code",
      "execution_count": 2,
      "metadata": {
        "colab": {
          "base_uri": "https://localhost:8080/"
        },
        "id": "jl4Bx2Omaizy",
        "outputId": "0fa7b62d-4e1e-4bbf-c506-d9b68907764c"
      },
      "outputs": [
        {
          "output_type": "stream",
          "name": "stdout",
          "text": [
            "Collecting cplex\n",
            "  Downloading cplex-22.1.1.2-cp310-cp310-manylinux1_x86_64.whl (44.2 MB)\n",
            "\u001b[2K     \u001b[90m━━━━━━━━━━━━━━━━━━━━━━━━━━━━━━━━━━━━━━━━\u001b[0m \u001b[32m44.2/44.2 MB\u001b[0m \u001b[31m11.2 MB/s\u001b[0m eta \u001b[36m0:00:00\u001b[0m\n",
            "\u001b[?25hInstalling collected packages: cplex\n",
            "Successfully installed cplex-22.1.1.2\n",
            "Collecting docplex\n",
            "  Downloading docplex-2.27.239.tar.gz (635 kB)\n",
            "\u001b[2K     \u001b[90m━━━━━━━━━━━━━━━━━━━━━━━━━━━━━━━━━━━━━━━━\u001b[0m \u001b[32m635.6/635.6 kB\u001b[0m \u001b[31m9.2 MB/s\u001b[0m eta \u001b[36m0:00:00\u001b[0m\n",
            "\u001b[?25h  Installing build dependencies ... \u001b[?25l\u001b[?25hdone\n",
            "  Getting requirements to build wheel ... \u001b[?25l\u001b[?25hdone\n",
            "  Installing backend dependencies ... \u001b[?25l\u001b[?25hdone\n",
            "  Preparing metadata (pyproject.toml) ... \u001b[?25l\u001b[?25hdone\n",
            "Requirement already satisfied: six in /usr/local/lib/python3.10/dist-packages (from docplex) (1.16.0)\n",
            "Building wheels for collected packages: docplex\n",
            "  Building wheel for docplex (pyproject.toml) ... \u001b[?25l\u001b[?25hdone\n",
            "  Created wheel for docplex: filename=docplex-2.27.239-py3-none-any.whl size=674503 sha256=cb81335a970874b070cd973cb6a4f3927184f19a6611f4ac21413410296963a0\n",
            "  Stored in directory: /root/.cache/pip/wheels/62/7c/db/cef9425e1cedbf45621545097eaaeed5efe07005bd8229dd74\n",
            "Successfully built docplex\n",
            "Installing collected packages: docplex\n",
            "Successfully installed docplex-2.27.239\n"
          ]
        }
      ],
      "source": [
        "!pip install cplex\n",
        "!pip install docplex"
      ]
    },
    {
      "cell_type": "code",
      "source": [
        "from docplex.mp.model import Model\n",
        "#formulazioni di flusso con archi e con path\n",
        "\n",
        "# Grafo delle spedizioni\n",
        "#1p = 1', 1s=1''\n",
        "grafo = {\n",
        "    's':['1p','2p','3p','4p'],\n",
        "    '1p':['1s'],\n",
        "    '2p':['2s'],\n",
        "    '3p':['3s'],\n",
        "    '4p':['4s'],\n",
        "    '2s':['t'],\n",
        "    '4s':['t'],\n",
        "    '3s':['2p','4p','t'],\n",
        "    '1s':['4p','2p','t'],\n",
        "}\n",
        "\n",
        "# Definizione modello\n",
        "def crea_modello(grafo):\n",
        "    modello = Model('min_num_paths')\n",
        "\n",
        "    # Variabili di decisione: indicano se un arco è selezionato\n",
        "    percorsi = {(u, v): modello.binary_var(name=f'path_{u}_{v}') for u in grafo.keys() for v in grafo[u]}\n",
        "\n",
        "    # Vincolo 1: almeno un percorso deve partire da 's'\n",
        "    vincolo_s = modello.sum(percorsi['s', v] for v in grafo['s']) >= 1\n",
        "    modello.add_constraint(vincolo_s, ctname='at_least_one_path_from_s')\n",
        "\n",
        "    # Vincolo 2: ogni arco deve essere utilizzato (tranne quelli che partono da s e arrivano in t)\n",
        "    for u in grafo.keys():\n",
        "        for v in grafo[u]:\n",
        "            if v!='t':\n",
        "              vincolo = modello.sum(percorsi[u, v] for u in grafo.keys() if v in grafo[u]) == 1\n",
        "              modello.add_constraint(vincolo, ctname=f'edge_usage_{u}_{v}')\n",
        "\n",
        "    # Vincolo 3: solo un arco esce da ogni nodo diverso da 's'\n",
        "    for nodo in grafo.keys():\n",
        "        if nodo != 's':\n",
        "            vincolo_uscita = modello.sum(percorsi[nodo, v] for v in grafo[nodo]) == 1\n",
        "            modello.add_constraint(vincolo_uscita, ctname=f'only_one_edge_out_{nodo}')\n",
        "\n",
        "    modello.minimize(modello.sum(percorsi['s', v] for v in grafo['s']))\n",
        "\n",
        "    return modello, percorsi\n",
        "\n",
        "\n",
        "# Risoluzione del modello\n",
        "def risolvi_modello(grafo):\n",
        "    modello, percorsi = crea_modello(grafo)\n",
        "    modello.solve()\n",
        "    return modello, percorsi\n",
        "\n",
        "# Funzione per stampare i risultati\n",
        "def stampa_risultati(modello, percorsi):\n",
        "    print('path:', modello.objective_value)\n",
        "    for u, v in percorsi:\n",
        "        if percorsi[u, v].solution_value != 0:\n",
        "              print(f'Arco {u} a {v} è selezionato')\n",
        "\n",
        "def trova_percorsi(modello, percorsi, grafo):\n",
        "    percorsi_tot = []\n",
        "\n",
        "    for u, v in percorsi:\n",
        "        if u == 's' and percorsi[u, v].solution_value == 1:\n",
        "            percorso = [u]\n",
        "            nodo_attuale = v\n",
        "            while nodo_attuale != '':\n",
        "                percorso.append(nodo_attuale)\n",
        "                if nodo_attuale in grafo:\n",
        "                    for next_node in grafo[nodo_attuale]:\n",
        "                        if percorsi[nodo_attuale, next_node].solution_value == 1:\n",
        "                            nodo_attuale = next_node\n",
        "                            break\n",
        "                else:\n",
        "                    break\n",
        "            percorsi_tot.append(percorso)\n",
        "\n",
        "    return percorsi_tot\n",
        "\n",
        "\n",
        "# Risoluzione del modello e stampa dei risultati\n",
        "modello, percorsi = risolvi_modello(grafo)\n",
        "stampa_risultati(modello, percorsi)\n",
        "\n",
        "percorsi_trovati = trova_percorsi(modello, percorsi, grafo)\n",
        "print(\"Percorsi trovati:\", percorsi_trovati)"
      ],
      "metadata": {
        "colab": {
          "base_uri": "https://localhost:8080/"
        },
        "id": "DtdFX4C2anwv",
        "outputId": "22b37329-32e2-4a8a-b022-8843ebc6aa3d"
      },
      "execution_count": 4,
      "outputs": [
        {
          "output_type": "stream",
          "name": "stdout",
          "text": [
            "path: 2.0\n",
            "Arco s a 1p è selezionato\n",
            "Arco s a 3p è selezionato\n",
            "Arco 1p a 1s è selezionato\n",
            "Arco 2p a 2s è selezionato\n",
            "Arco 3p a 3s è selezionato\n",
            "Arco 4p a 4s è selezionato\n",
            "Arco 2s a t è selezionato\n",
            "Arco 4s a t è selezionato\n",
            "Arco 3s a 4p è selezionato\n",
            "Arco 1s a 2p è selezionato\n",
            "Percorsi trovati: [['s', '1p', '1s', '2p', '2s', 't'], ['s', '3p', '3s', '4p', '4s', 't']]\n"
          ]
        }
      ]
    }
  ]
}